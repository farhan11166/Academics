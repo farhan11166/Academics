{
 "cells": [
  {
   "cell_type": "code",
   "execution_count": 1,
   "id": "7e9a5df8-aafa-41af-a1e1-e3705ca6f49b",
   "metadata": {},
   "outputs": [],
   "source": [
    "import random\n",
    "import math\n",
    "def simulated_annealing(state,temprature=100,cooling_rate=0.99):\n",
    "    \n",
    "    curr_cost=loss(state)\n",
    "    max_steps=10000\n",
    "    for step in range(max_steps):\n",
    "         new_state = neighbor(state)\n",
    "         new_cost = loss(new_state)\n",
    "         delta_e = new_cost - curr_cost\n",
    "     \n",
    "         if delta_e < 0:\n",
    "             state, curr_cost = new_state, new_cost\n",
    "         else:\n",
    "             if random.random() < math.exp(-delta_e / temprature):\n",
    "                 state, curr_cost = new_state, new_cost\n",
    "         temprature*= cooling_rate\n",
    "         if temprature<=pow(10,-6):\n",
    "              break\n",
    "           \n",
    "        \n",
    "        \n",
    "   \n",
    "    return state\n",
    "       \n",
    "  \n",
    "            \n",
    "            "
   ]
  },
  {
   "cell_type": "code",
   "execution_count": 2,
   "id": "abc5fb44-4515-480d-bf4a-9d4ff6ab0f70",
   "metadata": {},
   "outputs": [],
   "source": [
    "def loss(state):\n",
    "    losss=0\n",
    "    for i in range(0,8):\n",
    "        for j in range(i+1,8):\n",
    "            if(state[j]==state[i]):\n",
    "                \n",
    "                losss+=1\n",
    "            elif(state[j]<state[i]):\n",
    "                \n",
    "                if(abs(i-j)==abs(state[i]-state[j])):\n",
    "                    \n",
    "                    losss+=1\n",
    "            elif(state[i]<state[j]):\n",
    "                if(abs(i-j)==abs(state[i]-state[j])):\n",
    "                    losss+=1\n",
    "                    \n",
    "    return losss              \n",
    "\n",
    "                    "
   ]
  },
  {
   "cell_type": "code",
   "execution_count": 3,
   "id": "d1d83c1a-361b-4e7b-8325-abb140202209",
   "metadata": {},
   "outputs": [],
   "source": [
    "def neighbor(state):\n",
    "    \n",
    "    col=random.randint(0,7)\n",
    "    new_state=state.copy()\n",
    "    new_row = random.randint(1, 8)\n",
    "    while new_row== new_state[col]:\n",
    "        new_row= random.randint(1,8)\n",
    "\n",
    "    new_state[col]=new_row\n",
    "    return new_state\n",
    "\n",
    "    \n"
   ]
  },
  {
   "cell_type": "code",
   "execution_count": 4,
   "id": "1204f0b2-50d8-42ea-b906-f73b5c120819",
   "metadata": {},
   "outputs": [
    {
     "name": "stdout",
     "output_type": "stream",
     "text": [
      "[5, 5, 4, 2, 5, 4, 5, 3] loss for it: 13\n",
      "final optimized state through simultaneous annealing [5, 7, 2, 6, 3, 1, 8, 4] and loss for it : 0\n"
     ]
    }
   ],
   "source": [
    "curr_state = [random.randint(1, 8) for _ in range(8)] \n",
    "print(f\"{curr_state} loss for it: {loss(curr_state)}\")\n",
    "k=simulated_annealing(curr_state,100,0.99)\n",
    "print(f\"final optimized state through simultaneous annealing {k} and loss for it : {loss(k)}\")\n",
    "      "
   ]
  }
 ],
 "metadata": {
  "kernelspec": {
   "display_name": "base",
   "language": "python",
   "name": "python3"
  },
  "language_info": {
   "codemirror_mode": {
    "name": "ipython",
    "version": 3
   },
   "file_extension": ".py",
   "mimetype": "text/x-python",
   "name": "python",
   "nbconvert_exporter": "python",
   "pygments_lexer": "ipython3",
   "version": "3.13.5"
  }
 },
 "nbformat": 4,
 "nbformat_minor": 5
}
